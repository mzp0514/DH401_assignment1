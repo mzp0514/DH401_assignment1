{
 "cells": [
  {
   "cell_type": "code",
   "execution_count": 2,
   "metadata": {},
   "outputs": [],
   "source": [
    "import os\n",
    "import sys\n",
    "# sys.path.append(\"../virtuosoNet\")\n",
    "\n",
    "from pathlib import Path\n",
    "import pandas as pd\n",
    "import music21 as m21\n",
    "import pretty_midi as pm\n",
    "from  matplotlib import pyplot as plt\n",
    "import util as u\n",
    "\n",
    "%matplotlib inline\n",
    "import numpy as np\n",
    "import math\n",
    "import pandas as pd\n",
    "import librosa\n",
    "import soundfile\n",
    "\n",
    "from subprocess import Popen, PIPE\n",
    "\n",
    "import IPython.display as ipd\n",
    "\n",
    "from collections import Counter"
   ]
  },
  {
   "cell_type": "code",
   "execution_count": 3,
   "metadata": {},
   "outputs": [],
   "source": [
    "BASE_PATH = \"../\""
   ]
  },
  {
   "cell_type": "markdown",
   "metadata": {},
   "source": [
    "### Produce the midi score from the xml using musescore"
   ]
  },
  {
   "cell_type": "markdown",
   "metadata": {},
   "source": [
    "### Produce the annotations from the midi score"
   ]
  },
  {
   "cell_type": "code",
   "execution_count": 4,
   "metadata": {},
   "outputs": [],
   "source": [
    "def quant_downbeat_to_annotations(midi_quant_path):\n",
    "    mididata = pm.PrettyMIDI(str(midi_quant_path))\n",
    "    downbeats = mididata.get_downbeats()\n",
    "    #the downbeat duration (in theory)\n",
    "    db_len = downbeats[2]-downbeats[1]\n",
    "    downbeat = {}\n",
    "    for i, db in enumerate(downbeats[:-1]):\n",
    "        assert(db not in downbeat) #check if all values are uniques\n",
    "        if math.isclose(downbeats[i+1]-downbeats[i], db_len, rel_tol=1e-2):\n",
    "            downbeat[db] = \"db\"\n",
    "        else:\n",
    "            downbeat[db]= \"dbW\"\n",
    "    #sort the dictionary just in case there are weird values\n",
    "    ord_downbeat = {k: v for k, v in sorted(downbeat.items(), key=lambda item: item[1])}\n",
    "    return ord_downbeat\n",
    "\n",
    "def quant_downbeat_to_annotations_from_midi(mididata):\n",
    "    downbeats = mididata.get_downbeats()\n",
    "    #the downbeat duration (in theory)\n",
    "    db_len = downbeats[2]-downbeats[1]\n",
    "    downbeat = {}\n",
    "    for i, db in enumerate(downbeats[:-1]):\n",
    "        assert(db not in downbeat) #check if all values are uniques\n",
    "        if math.isclose(downbeats[i+1]-downbeats[i], db_len, rel_tol=1e-2):\n",
    "            downbeat[db] = \"db\"\n",
    "        else:\n",
    "            downbeat[db]= \"dbW\"\n",
    "    #sort the dictionary just in case there are weird values\n",
    "    ord_downbeat = {k: v for k, v in sorted(downbeat.items(), key=lambda item: item[1])}\n",
    "    return ord_downbeat\n",
    "\n",
    "def quant_beat_to_annotations(midi_quant_path):\n",
    "    mididata = pm.PrettyMIDI(str(midi_quant_path))\n",
    "    beats = mididata.get_beats()\n",
    "    #the beat duration (in theory)\n",
    "    b_len = beats[40]-beats[39] #multiple short beats in the beginning sometimes\n",
    "    beat = {}\n",
    "    for i, b in enumerate(beats[:-1]):\n",
    "        assert(b not in beat) #check if all values are uniques\n",
    "        if math.isclose(beats[i+1]-beats[i], b_len, rel_tol=1e-2):\n",
    "            beat[b] = \"b\"\n",
    "        else:\n",
    "            beat[b] = \"bW\"\n",
    "    #sort the dictionary just in case there are weird values\n",
    "    ord_beat = {k: v for k, v in sorted(beat.items(), key=lambda item: item[1])}\n",
    "    return beat\n",
    "\n",
    "def quant_beat_to_annotations_from_midi(mididata):\n",
    "    beats = mididata.get_beats()\n",
    "    #the beat duration (in theory)\n",
    "    b_len = beats[40]-beats[39] #multiple short beats in the beginning sometimes\n",
    "    beat = {}\n",
    "    for i, b in enumerate(beats[:-1]):\n",
    "        assert(b not in beat) #check if all values are uniques\n",
    "        if math.isclose(beats[i+1]-beats[i], b_len, rel_tol=1e-2):\n",
    "            beat[b] = \"b\"\n",
    "        else:\n",
    "            beat[b] = \"bW\"\n",
    "    #sort the dictionary just in case there are weird values\n",
    "    ord_beat = {k: v for k, v in sorted(beat.items(), key=lambda item: item[1])}\n",
    "    return beat\n",
    "\n",
    "def aggregate_annotations(beat, downbeat):\n",
    "    #merge the downbeat and the beat, with downbeat overwriting beat informations\n",
    "    annotations ={**beat, **downbeat}\n",
    "    return annotations\n",
    "\n",
    "def beat_downbeat_to_text(annotations,out_path):\n",
    "    path = Path(out_path)\n",
    "    #produce the txt\n",
    "    file_content = \"\"\n",
    "    for a in annotations:\n",
    "        file_content+= str(a) + \"\\t\" + str(a) + \"\\t\" + annotations[a] + \"\\n\"\n",
    "    with open(out_path,\"w\") as f:\n",
    "        f.write(file_content)\n",
    "        \n",
    "def annotations_to_audio(midi_quant_path, annotations, out_path):\n",
    "    midi_data = pm.PrettyMIDI(str(midi_quant_path))\n",
    "    audio_fs = 22100\n",
    "    beat = [a for a in annotations if annotations[a][0] == \"b\"]\n",
    "    downbeat = [a for a in annotations if annotations[a][0] == \"d\"]\n",
    "    midi_audio = midi_data.synthesize(fs=audio_fs)\n",
    "    audio_beat = librosa.clicks(beat, sr=audio_fs, click_freq=900, length=len(midi_audio))\n",
    "    audio_downbeat = librosa.clicks(downbeat, sr=audio_fs, click_freq=1200, length=len(midi_audio))\n",
    "    soundfile.write(out_path,audio_beat + audio_downbeat+ midi_audio,audio_fs)"
   ]
  },
  {
   "cell_type": "code",
   "execution_count": 5,
   "metadata": {},
   "outputs": [
    {
     "data": {
      "text/html": [
       "<div>\n",
       "<style scoped>\n",
       "    .dataframe tbody tr th:only-of-type {\n",
       "        vertical-align: middle;\n",
       "    }\n",
       "\n",
       "    .dataframe tbody tr th {\n",
       "        vertical-align: top;\n",
       "    }\n",
       "\n",
       "    .dataframe thead th {\n",
       "        text-align: right;\n",
       "    }\n",
       "</style>\n",
       "<table border=\"1\" class=\"dataframe\">\n",
       "  <thead>\n",
       "    <tr style=\"text-align: right;\">\n",
       "      <th></th>\n",
       "      <th>composer</th>\n",
       "      <th>title</th>\n",
       "      <th>folder</th>\n",
       "      <th>xml_score</th>\n",
       "      <th>midi_score</th>\n",
       "      <th>midi_performance</th>\n",
       "      <th>performance_annotations</th>\n",
       "      <th>midi_score_annotations</th>\n",
       "      <th>maestro_midi_performance</th>\n",
       "      <th>maestro_audio_performance</th>\n",
       "      <th>start</th>\n",
       "      <th>end</th>\n",
       "      <th>audio_performance</th>\n",
       "    </tr>\n",
       "  </thead>\n",
       "  <tbody>\n",
       "    <tr>\n",
       "      <th>1024</th>\n",
       "      <td>Schubert</td>\n",
       "      <td>Wanderer_fantasie</td>\n",
       "      <td>Schubert/Wanderer_fantasie</td>\n",
       "      <td>Schubert/Wanderer_fantasie/xml_score.musicxml</td>\n",
       "      <td>Schubert/Wanderer_fantasie/midi_score.mid</td>\n",
       "      <td>Schubert/Wanderer_fantasie/Kolessova02.mid</td>\n",
       "      <td>Schubert/Wanderer_fantasie/Kolessova02_annotat...</td>\n",
       "      <td>Schubert/Wanderer_fantasie/midi_score_annotati...</td>\n",
       "      <td>NaN</td>\n",
       "      <td>NaN</td>\n",
       "      <td>NaN</td>\n",
       "      <td>NaN</td>\n",
       "      <td>NaN</td>\n",
       "    </tr>\n",
       "  </tbody>\n",
       "</table>\n",
       "</div>"
      ],
      "text/plain": [
       "      composer              title                      folder  \\\n",
       "1024  Schubert  Wanderer_fantasie  Schubert/Wanderer_fantasie   \n",
       "\n",
       "                                          xml_score  \\\n",
       "1024  Schubert/Wanderer_fantasie/xml_score.musicxml   \n",
       "\n",
       "                                     midi_score  \\\n",
       "1024  Schubert/Wanderer_fantasie/midi_score.mid   \n",
       "\n",
       "                                midi_performance  \\\n",
       "1024  Schubert/Wanderer_fantasie/Kolessova02.mid   \n",
       "\n",
       "                                performance_annotations  \\\n",
       "1024  Schubert/Wanderer_fantasie/Kolessova02_annotat...   \n",
       "\n",
       "                                 midi_score_annotations  \\\n",
       "1024  Schubert/Wanderer_fantasie/midi_score_annotati...   \n",
       "\n",
       "     maestro_midi_performance maestro_audio_performance  start  end  \\\n",
       "1024                      NaN                       NaN    NaN  NaN   \n",
       "\n",
       "     audio_performance  \n",
       "1024               NaN  "
      ]
     },
     "execution_count": 5,
     "metadata": {},
     "output_type": "execute_result"
    }
   ],
   "source": [
    "all_df = pd.read_csv(Path(BASE_PATH,\"metadata.csv\"))\n",
    "quant_df = all_df.drop_duplicates(subset='xml_score', keep='first')\n",
    "quant_df[quant_df.midi_score == \"Schubert/Wanderer_fantasie/midi_score.mid\"]"
   ]
  },
  {
   "cell_type": "code",
   "execution_count": 6,
   "metadata": {},
   "outputs": [
    {
     "data": {
      "text/plain": [
       "composer                                                              Schubert\n",
       "title                                                        Wanderer_fantasie\n",
       "folder                                              Schubert/Wanderer_fantasie\n",
       "xml_score                        Schubert/Wanderer_fantasie/xml_score.musicxml\n",
       "midi_score                           Schubert/Wanderer_fantasie/midi_score.mid\n",
       "midi_performance                    Schubert/Wanderer_fantasie/Kolessova02.mid\n",
       "performance_annotations      Schubert/Wanderer_fantasie/Kolessova02_annotat...\n",
       "midi_score_annotations       Schubert/Wanderer_fantasie/midi_score_annotati...\n",
       "maestro_midi_performance                                                   NaN\n",
       "maestro_audio_performance                                                  NaN\n",
       "start                                                                      NaN\n",
       "end                                                                        NaN\n",
       "audio_performance                                                          NaN\n",
       "Name: 1024, dtype: object"
      ]
     },
     "execution_count": 6,
     "metadata": {},
     "output_type": "execute_result"
    }
   ],
   "source": [
    "row = quant_df.loc[1024]\n",
    "row"
   ]
  },
  {
   "cell_type": "code",
   "execution_count": 7,
   "metadata": {},
   "outputs": [
    {
     "name": "stdout",
     "output_type": "stream",
     "text": [
      "processing score Schubert/Wanderer_fantasie/xml_score.musicxml\n"
     ]
    },
    {
     "name": "stderr",
     "output_type": "stream",
     "text": [
      "/home/fosfrancesco/miniconda3/envs/mir_research/lib/python3.8/site-packages/pretty_midi/pretty_midi.py:97: RuntimeWarning: Tempo, Key or Time signature change events found on non-zero tracks.  This is not a valid type 0 or type 1 MIDI file.  Tempo, Key or Time Signature may be wrong.\n",
      "  warnings.warn(\n"
     ]
    }
   ],
   "source": [
    "score_path = row[\"xml_score\"]\n",
    "midi_quant_path = row[\"midi_score\"]\n",
    "\n",
    "print(\"processing score\", score_path)\n",
    "\n",
    "midi_data = pm.PrettyMIDI(str(Path(BASE_PATH,midi_quant_path)))      \n",
    "        \n",
    "dbs = quant_downbeat_to_annotations_from_midi(midi_data)\n",
    "bs = quant_beat_to_annotations_from_midi(midi_data)\n",
    "anns = aggregate_annotations(bs,dbs)\n",
    "\n",
    "\n",
    "beat_downbeat_to_text(anns, str(Path(BASE_PATH,row[\"midi_score_annotations\"])))"
   ]
  },
  {
   "cell_type": "markdown",
   "metadata": {},
   "source": [
    "### Add the ts changes"
   ]
  },
  {
   "cell_type": "code",
   "execution_count": 8,
   "metadata": {},
   "outputs": [],
   "source": [
    "# create the time signature changes\n",
    "\n",
    "def score2ts_changes(score_path, remove_duplicates = True):\n",
    "    score = m21.converter.parse(score_path)\n",
    "    ts_changes = [ str(ts.numerator)+\"/\"+str(ts.denominator) for ts in score.parts[0].recurse().getElementsByClass(m21.meter.TimeSignature)]\n",
    "    if remove_duplicates:\n",
    "        #remove the duplicates\n",
    "        ts_changes = [ts for i,ts in enumerate(ts_changes) if i==0 or (i!=0 and ts_changes[i-1]!=ts)]\n",
    "    return ts_changes\n",
    "\n",
    "def midi2ts_changes(midi_path, remove_duplicates = True):\n",
    "    midi = pm.PrettyMIDI(midi_path)\n",
    "    ts_changes = [(ts.time, str(ts.numerator)+\"/\"+str(ts.denominator)) for ts in midi.time_signature_changes]\n",
    "    if remove_duplicates:\n",
    "    #remove the duplicates\n",
    "        ts_changes = [ts for i,ts in enumerate(ts_changes) if i==0 or (i!=0 and ts_changes[i-1][1]!=ts[1])]\n",
    "    return ts_changes\n",
    "\n",
    "def align_score_ts_with_midi_ts(score_path,midi_path):\n",
    "    midi_ts_changes = midi2ts_changes(midi_path)\n",
    "    score_ts_changes = score2ts_changes(score_path)\n",
    "    out = []\n",
    "    for si, sts in enumerate(score_ts_changes):\n",
    "        found_at_index = None\n",
    "        for mi, mts in enumerate(midi_ts_changes):\n",
    "            if sts == mts[1]:\n",
    "                out.append((sts,mts[0]))\n",
    "                found_at_index = mi\n",
    "                break\n",
    "        if found_at_index is None:\n",
    "            raise(ValueError(\"The algorithm of ts aligning is not working\"))\n",
    "        if found_at_index< len(midi_ts_changes):\n",
    "            midi_ts_changes = midi_ts_changes[found_at_index+1:]\n",
    "    return out\n",
    "\n",
    "def row_to_ts_align(row):\n",
    "    try:\n",
    "        return align_score_ts_with_midi_ts(str(Path(BASE_PATH,row[\"xml_score\"])),str(Path(BASE_PATH,row[\"midi_score\"])))\n",
    "    except Exception as e:\n",
    "        print(\"Processing piece\",row[\"midi_score\"], \"..................Exception!!\" )\n",
    "        print(e)\n",
    "        return None \n"
   ]
  },
  {
   "cell_type": "code",
   "execution_count": 9,
   "metadata": {},
   "outputs": [
    {
     "name": "stdout",
     "output_type": "stream",
     "text": [
      "Aligning opus Schubert/Wanderer_fantasie/midi_score.mid\n",
      "Some problems for ts ('2/2', 334.221888)\n",
      "Some problems for ts ('3/4', 862.221888)\n",
      "Some problems for ts ('4/4', 1115.661888)\n"
     ]
    }
   ],
   "source": [
    "def align_ts_to_beat(row):\n",
    "    print(\"Aligning opus\", row.midi_score)\n",
    "    \n",
    "    ann_list = list(anns.items())\n",
    "    downbeats = [b[0] for b in ann_list if b[1]==\"db\"]\n",
    "    \n",
    "    #compute ts_changes\n",
    "    ts_changes = row_to_ts_align(row)\n",
    "    # align ts\n",
    "    aligned_ts = []\n",
    "    for ts in ts_changes:\n",
    "        # find beat in the window\n",
    "        close_db = [db for db in downbeats if (db >= ts[1] - 0.0175) and (db <= ts[1] + 0.0175)]\n",
    "        if ts[1] == 0: #initial time signature, can not coincide with downbeats, so don't align it\n",
    "            aligned_ts.append(ts)\n",
    "        elif len(close_db) != 1: # if no close note found (beat on a rest)\n",
    "            print(\"Some problems for ts\",ts)\n",
    "        else:\n",
    "            aligned_ts.append((ts[0],close_db[0])) # align to the close downbeat\n",
    "            shift = np.abs(ts[1]- close_db[0])\n",
    "            if shift > 0:\n",
    "                print(\"ts\",ts, \"moved of \",shift)\n",
    "    \n",
    "    # move the first time signature to the first downbeat position\n",
    "    first_db = downbeats[0]\n",
    "    first_ts = aligned_ts[0][1]\n",
    "    if first_db!= first_ts:\n",
    "        aligned_ts[0] = (aligned_ts[0][0],first_db)\n",
    "\n",
    "    return aligned_ts\n",
    "\n",
    "\n",
    "ts_changes = align_ts_to_beat(row)"
   ]
  },
  {
   "cell_type": "code",
   "execution_count": 10,
   "metadata": {},
   "outputs": [],
   "source": [
    "def row2file_annotations(row):\n",
    "    #in case beats are missing, exit\n",
    "    path = Path(BASE_PATH,row[\"midi_score_annotations\"])\n",
    "    #produce the txt\n",
    "    file_content = \"\"\n",
    "    for a in list(anns.items()):\n",
    "        file_content+= str(a[0]) + \"\\t\" + str(a[0]) + \"\\t\" + a[1] \n",
    "        #add the ts change if needed\n",
    "        if a[0] in [ts[1] for ts in ts_changes]:\n",
    "            file_content+=\",\"+ str([ts[0] for ts in ts_changes if ts[1]==a[0]][0])\n",
    "        file_content+= \"\\n\"\n",
    "    with open(path,\"w\") as f:\n",
    "        f.write(file_content)\n",
    "    \n",
    "row2file_annotations(row)"
   ]
  },
  {
   "cell_type": "markdown",
   "metadata": {},
   "source": [
    "### Add the key signature"
   ]
  },
  {
   "cell_type": "code",
   "execution_count": 11,
   "metadata": {},
   "outputs": [],
   "source": [
    "def score2ks_changes(score_path, remove_duplicates = True, enharmonic = True):\n",
    "    score = m21.converter.parse(score_path)\n",
    "#     keys = [ ks.sharps for ks in score.parts[0].recurse().getElementsByClass(m21.key.KeySignature)]\n",
    "    keys = [ (ks.asKey(mode='major').tonic.pitchClass,ks.measureNumber,ks.sharps) for ks in score.parts[0].recurse().getElementsByClass(m21.key.KeySignature)]\n",
    "    if remove_duplicates:\n",
    "    #remove the duplicates\n",
    "        if enharmonic: #we condider only the key as an integer [0,11]\n",
    "            keys = [ks for i,ks in enumerate(keys) if i==0 or (i!=0 and keys[i-1][0]!=ks[0])]\n",
    "        else: #we consider the number of sharps and flats\n",
    "            keys = [ks for i,ks in enumerate(keys) if i==0 or (i!=0 and keys[i-1][2]!=ks[2])]\n",
    "    return keys\n",
    "\n",
    "def midi2ks_changes(midi_path, remove_duplicates = True):\n",
    "    midi = pm.PrettyMIDI(midi_path)\n",
    "    # 0 is C Major, 12 is C minor.\n",
    "    keys = [(k.key_number,k.time) for k in midi.key_signature_changes]\n",
    "    if remove_duplicates:\n",
    "    #remove the duplicates\n",
    "        keys = [ks for i,ks in enumerate(keys) if i==0 or (i!=0 and keys[i-1][0]!=ks[0])]\n",
    "    return keys\n",
    "\n",
    "\n",
    "def save_key_in_txt_annotations(row):\n",
    "    #get the keys informations\n",
    "    score_keys = score2ks_changes(str(Path(BASE_PATH,row[\"xml_score\"])))\n",
    "    midi_keys = midi2ks_changes(str(Path(BASE_PATH,row[\"midi_score\"])))\n",
    "#     assert([sk[0] for sk in score_keys]  == [mk[0] for mk in midi_keys]  ) #check if they coincide with the score\n",
    "    if [sk[0] for sk in score_keys]  != [mk[0] for mk in midi_keys]:\n",
    "        print(\"Not working for\",row.score_midi,score_keys,midi_keys)\n",
    "        return\n",
    "\n",
    "    #get the annotations file\n",
    "    quant_ann_df = pd.read_csv(Path(BASE_PATH,row[\"midi_score_annotations\"]),header=None, names=[\"time\",\"time2\",\"type\"],sep='\\t')\n",
    "    \n",
    "    ks_out_dict = {}\n",
    "    #check if there is a db close to every key change time (except for the first)\n",
    "    for mk,sk in zip(midi_keys,score_keys):\n",
    "        if mk[1] == 0:\n",
    "            # it's the first of the piece, append it to the first annotation\n",
    "            close_ann = [r[\"time\"] for i,r in quant_ann_df.iterrows()][0]\n",
    "            ks_out_dict[close_ann] = sk[2]\n",
    "        else: \n",
    "            # find the close beat\n",
    "#             db_list = [row[\"time\"] for i,row in quant_ann_df.iterrows() if row[\"type\"].split(\",\")[0]==\"b\" or ]\n",
    "            close_anns = [r[\"time\"] for i,r in quant_ann_df.iterrows() if (r[\"time\"] >= mk[1] - 0.0175) and (r[\"time\"] <= mk[1] + 0.0175)]\n",
    "            if len(close_anns)!=1: \n",
    "                # we take the first annotation on the right\n",
    "                close_ann = [r[\"time\"] for i,r in quant_ann_df.iterrows() if (r[\"time\"] >= mk[1] )][0]\n",
    "            else:\n",
    "                close_ann = close_anns[0]\n",
    "            ks_out_dict[close_ann] = sk[2]\n",
    "    \n",
    "    #now write the file\n",
    "    file_content= \"\"\n",
    "    counter_written = 0\n",
    "    for i, r in quant_ann_df.iterrows():\n",
    "        if r[\"time\"] in ks_out_dict.keys():\n",
    "            if len(r[\"type\"].split(\",\"))==1: #no time signature\n",
    "                file_content+= str(r[\"time\"]) + \"\\t\" + str(r[\"time\"]) + \"\\t\" + str(r[\"type\"]) + \",,\" + str(ks_out_dict[r[\"time\"]])  + \"\\n\"\n",
    "            elif len(r[\"type\"].split(\",\"))==2: #time signature\n",
    "                file_content+= str(r[\"time\"]) + \"\\t\" + str(r[\"time\"]) + \"\\t\" + str(r[\"type\"]) + \",\" + str(ks_out_dict[r[\"time\"]])  + \"\\n\"\n",
    "            else:\n",
    "                raise Exception(\"Bad annotations type\")\n",
    "        else:\n",
    "            file_content+= str(r[\"time\"]) + \"\\t\" + str(r[\"time\"]) + \"\\t\" + str(r[\"type\"])+ \"\\n\"\n",
    "    with open(Path(BASE_PATH,row[\"midi_score_annotations\"]),\"w\") as f:\n",
    "        f.write(file_content)\n",
    "        \n",
    "    return"
   ]
  },
  {
   "cell_type": "code",
   "execution_count": 12,
   "metadata": {},
   "outputs": [],
   "source": [
    "save_key_in_txt_annotations(row)"
   ]
  },
  {
   "cell_type": "markdown",
   "metadata": {},
   "source": [
    "## Clean manually the annotations\n",
    "\n",
    "Open in Audacity and check"
   ]
  },
  {
   "cell_type": "markdown",
   "metadata": {},
   "source": [
    "### Check automatically the quality of quantized annotations"
   ]
  },
  {
   "cell_type": "code",
   "execution_count": 12,
   "metadata": {},
   "outputs": [],
   "source": [
    "#Check early/late db/b\n",
    "cdq.check_late_early_annot(str(Path(BASE_PATH,row[\"midi_score\"])),str(Path(BASE_PATH,row[\"midi_score_annotations\"])))\n",
    "\n",
    "#check correct type\n",
    "cdq.check_annotation_text(str(Path(BASE_PATH,row[\"midi_score_annotations\"])))\n",
    "\n",
    "#check correct ratio beats downbeats (according to the local time signature)\n",
    "cdq.check_b_db_ratio(str(Path(BASE_PATH,row[\"midi_score_annotations\"])))"
   ]
  },
  {
   "cell_type": "markdown",
   "metadata": {},
   "source": [
    "# Create the performances annotations\n"
   ]
  },
  {
   "cell_type": "markdown",
   "metadata": {},
   "source": [
    "## Create the Score2Performance mapping with midi2midi alignment algorithm\n",
    "You need to download and compile the nakamura alignment tool. Then move all the file inside \"/util/nak_alignment\" and move the file \"util/MIDIToMIDIAlign.sh\" inside the folder."
   ]
  },
  {
   "cell_type": "code",
   "execution_count": 13,
   "metadata": {},
   "outputs": [],
   "source": [
    "NAK_PATH = Path(\"../util/nak_alignment\")\n",
    "\n",
    "def generate_nak_align(row):\n",
    "    p = Popen([str(Path(NAK_PATH,\"MIDIToMIDIAlign.sh\")), str(Path(BASE_PATH,row[\"midi_score\"][:-4])), str(Path(BASE_PATH,row[\"midi_performance\"][:-4]))], stdin=PIPE, stdout=PIPE, stderr=PIPE)\n",
    "    output, err = p.communicate(b\"input data that is passed to subprocess' stdin\")\n",
    "    rc = p.returncode\n",
    "    print(output,err)"
   ]
  },
  {
   "cell_type": "code",
   "execution_count": 20,
   "metadata": {},
   "outputs": [
    {
     "name": "stdout",
     "output_type": "stream",
     "text": [
      "b'' b''\n"
     ]
    },
    {
     "data": {
      "text/plain": [
       "988    None\n",
       "dtype: object"
      ]
     },
     "execution_count": 20,
     "metadata": {},
     "output_type": "execute_result"
    }
   ],
   "source": [
    "all_df = pd.read_csv(Path(BASE_PATH,\"metadata.csv\"))\n",
    "df = all_df[all_df.midi_performance == \"Schubert/Impromptu_op.90_D.899/4/Dossin04.mid\"].copy()\n",
    "df.apply(generate_nak_align,axis=1)"
   ]
  },
  {
   "cell_type": "markdown",
   "metadata": {},
   "source": [
    "## Create annotations"
   ]
  },
  {
   "cell_type": "code",
   "execution_count": 21,
   "metadata": {},
   "outputs": [],
   "source": [
    "def cleaned_m2m_df(midi2midi_path):\n",
    "    # read the nakamura output file and delete useless lines\n",
    "    m2mdf = pd.read_csv(midi2midi_path,sep=\"\\t\",skiprows=1,header=None, index_col=False)\n",
    "    m2mdf.columns =[\"alignID\", \"alignOntime\", \"alignSitch\" ,\"alignPitch\", \"alignOnvel\", \"refID\", \"refOntime\", \"refSitch\", \"refPitch\", \"refOnvel\",\"empty\"]\n",
    "    #drop the last column \"empty\"\n",
    "    m2mdf = m2mdf.drop(columns=[\"empty\"])\n",
    "    #drop the rows where the alignOntime is -1 (note not existing in both files midi)\n",
    "    return m2mdf[m2mdf[\"alignOntime\"] != -1]\n",
    "\n",
    "def generate_performance_annotations(m2m_df, cl_quant_ann):\n",
    "    #create the list with the time of all annotations\n",
    "    quant_ann_time_list = cl_quant_ann[\"time\"].tolist()\n",
    "    quant_ann_type_list = cl_quant_ann[\"type\"].tolist()\n",
    "    perf_ann_list = []\n",
    "    missing_list = []\n",
    "    for i,at in enumerate(quant_ann_time_list):\n",
    "        p_ons=list(m2m_df[(m2m_df[\"refOntime\"]>at-0.020) & (m2m_df[\"refOntime\"]<at+0.020)][\"alignOntime\"]) #40 ms accepted window\n",
    "        if len(p_ons) == 0: #no note matching the ann position in the performance\n",
    "            perf_ann_list.append(None)\n",
    "#             print(\"missing corrispondency at quant time\", at)\n",
    "            missing_list.append((\"missing\",at))\n",
    "        else:\n",
    "            perf_ann_list.append(np.median(p_ons)) #median against outliers\n",
    "    \n",
    "    # clean the values that are smaller than the value before\n",
    "    for ind,at in enumerate(perf_ann_list[1:]):\n",
    "        if (ind >0) and (at is not None) and (perf_ann_list[ind-1] is not None) and (at < perf_ann_list[ind-1]) :\n",
    "#             print(\"Unexpected value\",at,\"smaller than the previous\",perf_ann_list[ind-1])\n",
    "            perf_ann_list[ind] = None\n",
    "            missing_list.append((\"smaller\",at))\n",
    "            \n",
    "    #save the index for the none values\n",
    "    none_indices = [index for index,value in enumerate(perf_ann_list) if value is None]\n",
    "     \n",
    "    #check if there are no None at the end (there should no, because of the manual corrections)\n",
    "    if perf_ann_list[-1] is None:\n",
    "        missing_list.append((\"None at end\",0))\n",
    "    #interpolate to fill the None values in the middle\n",
    "    filled_at = pd.Series(perf_ann_list).interpolate().tolist()\n",
    "    #fill the values at the beginning\n",
    "    ind = 0\n",
    "    while math.isnan(filled_at[ind]): #find the number of None at the beginning\n",
    "        ind +=1\n",
    "    for i in range(ind)[::-1]: #fill, starting from the later one\n",
    "        proposed_value = filled_at[i+1] - (filled_at[i+2]-filled_at[i+1])\n",
    "        if proposed_value<0: #cap at 0\n",
    "            proposed_value = 0\n",
    "        filled_at[i] = proposed_value\n",
    "    \n",
    "    #associate the type of annotation\n",
    "    assert(len(quant_ann_type_list) == len(filled_at))\n",
    "    perd_ann_dict = dict(zip(filled_at, quant_ann_type_list))\n",
    "    #add the Warning for the None values\n",
    "    warnings = False\n",
    "    for val in none_indices:\n",
    "        perd_ann_dict[filled_at[val]] += \"W\"\n",
    "        warnings = True\n",
    "    \n",
    "    return perd_ann_dict ,missing_list\n",
    "    \n",
    "def beat_downbeat_to_text(annotations,out_path):\n",
    "    path = Path(out_path)\n",
    "    #produce the txt\n",
    "    file_content = \"\"\n",
    "    for a in annotations:\n",
    "        file_content+= str(a) + \"\\t\" + str(a) + \"\\t\" + annotations[a] + \"\\n\"\n",
    "    with open(out_path,\"w\") as f:\n",
    "        f.write(file_content)\n",
    "        \n",
    "def annotations_to_audio(midi_path, annotations, out_path):\n",
    "    midi_data = pm.PrettyMIDI(str(midi_path))\n",
    "    audio_fs = 6000\n",
    "    beat = [a for a in annotations if annotations[a][0] == \"b\"]\n",
    "    downbeat = [a for a in annotations if annotations[a][0] == \"d\"]\n",
    "    midi_audio = midi_data.synthesize(fs=audio_fs)\n",
    "    audio_beat = librosa.clicks(beat, sr=audio_fs, click_freq=900, length=len(midi_audio))\n",
    "    audio_downbeat = librosa.clicks(downbeat, sr=audio_fs, click_freq=1200, length=len(midi_audio))\n",
    "    soundfile.write(out_path,audio_beat + audio_downbeat+ midi_audio,audio_fs)\n",
    "    \n",
    "\n",
    "def perform_row_to_annotations(row):\n",
    "    ann_quant_df = pd.read_csv(Path(BASE_PATH,row[\"midi_score_annotations\"]),header=None, names=[\"time\",\"time2\",\"type\"],sep='\\t')\n",
    "    #load the m2m alignment\n",
    "    m2m = cleaned_m2m_df(Path(BASE_PATH,row[\"midi_performance\"][:-4]+\"_corresp.txt\"))\n",
    "    #generate the annotations\n",
    "    ann_dict,missing_list = generate_performance_annotations(m2m, ann_quant_df)\n",
    "    #write the annotations to txt\n",
    "    beat_downbeat_to_text(ann_dict,Path(BASE_PATH,row[\"midi_performance\"][:-4]+\"_annotations.txt\"))\n",
    "    #write the audio\n",
    "    annotations_to_audio(str(Path(BASE_PATH,row[\"midi_performance\"][:-4]+\".mid\")),ann_dict,Path(BASE_PATH,row[\"midi_performance\"][:-4] + \"_click.wav\"))\n",
    "#         print(\"done\")\n",
    "    return missing_list"
   ]
  },
  {
   "cell_type": "code",
   "execution_count": 22,
   "metadata": {},
   "outputs": [
    {
     "data": {
      "text/plain": [
       "988    [(missing, 0.0), (missing, 0.5), (missing, 1.0...\n",
       "dtype: object"
      ]
     },
     "execution_count": 22,
     "metadata": {},
     "output_type": "execute_result"
    }
   ],
   "source": [
    "df\n",
    "df.apply(perform_row_to_annotations,axis=1)"
   ]
  }
 ],
 "metadata": {
  "kernelspec": {
   "display_name": "Python 3",
   "language": "python",
   "name": "python3"
  },
  "language_info": {
   "codemirror_mode": {
    "name": "ipython",
    "version": 3
   },
   "file_extension": ".py",
   "mimetype": "text/x-python",
   "name": "python",
   "nbconvert_exporter": "python",
   "pygments_lexer": "ipython3",
   "version": "3.7.7"
  }
 },
 "nbformat": 4,
 "nbformat_minor": 4
}
