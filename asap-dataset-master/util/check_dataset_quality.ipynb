{
 "cells": [
  {
   "cell_type": "code",
   "execution_count": 2,
   "metadata": {},
   "outputs": [
    {
     "name": "stderr",
     "output_type": "stream",
     "text": [
      "/home/fosfrancesco/miniconda3/envs/mir_research/lib/python3.8/site-packages/tqdm/std.py:668: FutureWarning: The Panel class is removed from pandas. Accessing it from the top-level namespace will also be removed in the next version\n",
      "  from pandas import Panel\n"
     ]
    }
   ],
   "source": [
    "import pandas as pd\n",
    "from pathlib import Path\n",
    "import util as u\n",
    "import importlib\n",
    "from tqdm import tqdm\n",
    "tqdm.pandas()\n",
    "\n",
    "importlib.reload(u)\n",
    "\n",
    "BASE_PATH = \"../\""
   ]
  },
  {
   "cell_type": "code",
   "execution_count": 3,
   "metadata": {},
   "outputs": [
    {
     "data": {
      "text/plain": [
       "Index(['composer', 'title', 'folder', 'xml_score', 'midi_score',\n",
       "       'midi_performance', 'performance_annotations', 'midi_score_annotations',\n",
       "       'maestro_midi_performance', 'maestro_audio_performance', 'start', 'end',\n",
       "       'audio_performance'],\n",
       "      dtype='object')"
      ]
     },
     "execution_count": 3,
     "metadata": {},
     "output_type": "execute_result"
    }
   ],
   "source": [
    "all_df = pd.read_csv(Path(BASE_PATH,\"metadata.csv\"))\n",
    "all_df.columns"
   ]
  },
  {
   "cell_type": "markdown",
   "metadata": {},
   "source": [
    "# Check if all scores can be parsed by music21"
   ]
  },
  {
   "cell_type": "code",
   "execution_count": 4,
   "metadata": {},
   "outputs": [],
   "source": [
    "quant_df = all_df.drop_duplicates(subset=\"midi_score_annotations\",keep=\"first\")"
   ]
  },
  {
   "cell_type": "code",
   "execution_count": 5,
   "metadata": {},
   "outputs": [
    {
     "name": "stderr",
     "output_type": "stream",
     "text": [
      "100%|██████████| 235/235 [02:08<00:00,  1.83it/s]\n"
     ]
    },
    {
     "data": {
      "text/plain": [
       "0       None\n",
       "1       None\n",
       "10      None\n",
       "15      None\n",
       "16      None\n",
       "        ... \n",
       "1045    None\n",
       "1048    None\n",
       "1052    None\n",
       "1054    None\n",
       "1057    None\n",
       "Length: 235, dtype: object"
      ]
     },
     "execution_count": 5,
     "metadata": {},
     "output_type": "execute_result"
    }
   ],
   "source": [
    "quant_df.progress_apply(lambda row: u.xmlscore_parsable_music21(str(Path(BASE_PATH,row[\"xml_score\"]))),axis = 1)"
   ]
  },
  {
   "cell_type": "markdown",
   "metadata": {},
   "source": [
    "# Check all midi scores"
   ]
  },
  {
   "cell_type": "code",
   "execution_count": 3,
   "metadata": {},
   "outputs": [],
   "source": [
    "quant_df = all_df.drop_duplicates(subset=\"midi_score_annotations\",keep=\"first\")"
   ]
  },
  {
   "cell_type": "code",
   "execution_count": 5,
   "metadata": {},
   "outputs": [
    {
     "data": {
      "text/plain": [
       "0       None\n",
       "1       None\n",
       "10      None\n",
       "15      None\n",
       "16      None\n",
       "        ... \n",
       "1046    None\n",
       "1049    None\n",
       "1053    None\n",
       "1055    None\n",
       "1058    None\n",
       "Length: 235, dtype: object"
      ]
     },
     "execution_count": 5,
     "metadata": {},
     "output_type": "execute_result"
    }
   ],
   "source": [
    "#Check early/late db/b\n",
    "quant_df.apply(lambda row: u.check_late_early_annot(str(Path(BASE_PATH,row[\"midi_score\"])),str(Path(BASE_PATH,row[\"midi_score_annotations\"]))),axis = 1)"
   ]
  },
  {
   "cell_type": "code",
   "execution_count": 7,
   "metadata": {},
   "outputs": [
    {
     "data": {
      "text/plain": [
       "0       None\n",
       "1       None\n",
       "10      None\n",
       "15      None\n",
       "16      None\n",
       "        ... \n",
       "1045    None\n",
       "1048    None\n",
       "1052    None\n",
       "1054    None\n",
       "1057    None\n",
       "Length: 235, dtype: object"
      ]
     },
     "execution_count": 7,
     "metadata": {},
     "output_type": "execute_result"
    }
   ],
   "source": [
    "#check correct type\n",
    "quant_df.apply(lambda row: u.check_annotation_text(str(Path(BASE_PATH,row[\"midi_score_annotations\"]))),axis = 1)"
   ]
  },
  {
   "cell_type": "code",
   "execution_count": 7,
   "metadata": {},
   "outputs": [
    {
     "data": {
      "text/plain": [
       "0       None\n",
       "1       None\n",
       "10      None\n",
       "15      None\n",
       "16      None\n",
       "        ... \n",
       "1046    None\n",
       "1049    None\n",
       "1053    None\n",
       "1055    None\n",
       "1058    None\n",
       "Length: 235, dtype: object"
      ]
     },
     "execution_count": 7,
     "metadata": {},
     "output_type": "execute_result"
    }
   ],
   "source": [
    "#check correct ratio beats downbeats (according to the local time signature)\n",
    "quant_df.apply(lambda row: u.check_b_db_ratio(str(Path(BASE_PATH,row[\"midi_score_annotations\"]))),axis = 1)"
   ]
  },
  {
   "cell_type": "code",
   "execution_count": 9,
   "metadata": {},
   "outputs": [
    {
     "data": {
      "text/plain": [
       "0       [1, 2, 3, 4, 5, 6, 7, 8, 9, 10, 11, 12, 13, 14...\n",
       "1       [1, 2, 3, 4, 5, 6, 7, 8, 9, 10, 11, 12, 13, 14...\n",
       "10      [1, 2, 3, 4, 5, 6, 7, 8, 9, 10, 11, 12, 13, 14...\n",
       "15      [1, 2, 3, 4, 5, 6, 7, 8, 9, 10, 11, 12, 13, 14...\n",
       "16      [1, 2, 3, 4, 5, 6, 7, 8, 9, 10, 11, 12, 13, 14...\n",
       "                              ...                        \n",
       "1046    [1, 2, 3, 4, 5, 6, 7, 8, 1, 2, 3, 4, 5, 6, 7, ...\n",
       "1049    [0, 1, 2, 3, 4, 5, 6, 7, 8, 9, 10, 11, 12, 13,...\n",
       "1053    [0, 1, 2, 3, 4, 5, 6, 7, 8, 9, 10, 11, 12, 13,...\n",
       "1055    [0, 1, 2, 3, 4, 5, 6, 7, 8, 9, 10, 11, 12, 13,...\n",
       "1058    [0, 1, 2, 3, 4, 5, 6, 7, 8, 9, 10, 11, 12, 13,...\n",
       "Length: 235, dtype: object"
      ]
     },
     "execution_count": 9,
     "metadata": {},
     "output_type": "execute_result"
    }
   ],
   "source": [
    "#check if the number of db in annotations is the same of the (corrected) number of measures in the score\n",
    "quant_df.apply(lambda row: u.same_number_of_measures_with_repetitions(row[\"xml_score\"],str(Path(BASE_PATH,row[\"midi_score_annotations\"])),base_path=BASE_PATH),axis = 1)"
   ]
  },
  {
   "cell_type": "markdown",
   "metadata": {},
   "source": [
    "# Check all performances"
   ]
  },
  {
   "cell_type": "code",
   "execution_count": 6,
   "metadata": {
    "scrolled": true
   },
   "outputs": [
    {
     "name": "stderr",
     "output_type": "stream",
     "text": [
      "100%|██████████| 1067/1067 [03:23<00:00,  5.25it/s]\n"
     ]
    },
    {
     "data": {
      "text/plain": [
       "0       None\n",
       "1       None\n",
       "2       None\n",
       "3       None\n",
       "4       None\n",
       "        ... \n",
       "1062    None\n",
       "1063    None\n",
       "1064    None\n",
       "1065    None\n",
       "1066    None\n",
       "Length: 1067, dtype: object"
      ]
     },
     "execution_count": 6,
     "metadata": {},
     "output_type": "execute_result"
    }
   ],
   "source": [
    "#Check early/late db/b\n",
    "all_df.progress_apply(lambda row: u.check_late_early_annot(str(Path(BASE_PATH,row[\"midi_performance\"])),str(Path(BASE_PATH,row[\"performance_annotations\"]))),axis = 1)"
   ]
  },
  {
   "cell_type": "code",
   "execution_count": 8,
   "metadata": {},
   "outputs": [
    {
     "name": "stderr",
     "output_type": "stream",
     "text": [
      "100%|██████████| 1067/1067 [01:11<00:00, 14.84it/s]\n"
     ]
    },
    {
     "data": {
      "text/plain": [
       "0       None\n",
       "1       None\n",
       "2       None\n",
       "3       None\n",
       "4       None\n",
       "        ... \n",
       "1062    None\n",
       "1063    None\n",
       "1064    None\n",
       "1065    None\n",
       "1066    None\n",
       "Length: 1067, dtype: object"
      ]
     },
     "execution_count": 8,
     "metadata": {},
     "output_type": "execute_result"
    }
   ],
   "source": [
    "#check correct type\n",
    "all_df.progress_apply(lambda row: u.check_annotation_text(str(Path(BASE_PATH,row[\"performance_annotations\"])),allow_W_flag = False),axis = 1)"
   ]
  },
  {
   "cell_type": "code",
   "execution_count": 9,
   "metadata": {
    "scrolled": true
   },
   "outputs": [
    {
     "name": "stderr",
     "output_type": "stream",
     "text": [
      "100%|██████████| 1067/1067 [01:15<00:00, 14.11it/s]\n"
     ]
    },
    {
     "data": {
      "text/plain": [
       "0       None\n",
       "1       None\n",
       "2       None\n",
       "3       None\n",
       "4       None\n",
       "        ... \n",
       "1062    None\n",
       "1063    None\n",
       "1064    None\n",
       "1065    None\n",
       "1066    None\n",
       "Length: 1067, dtype: object"
      ]
     },
     "execution_count": 9,
     "metadata": {},
     "output_type": "execute_result"
    }
   ],
   "source": [
    "#check b,db correct ratio\n",
    "all_df.progress_apply(lambda row: u.check_b_db_ratio(str(Path(BASE_PATH,row[\"performance_annotations\"]))),axis = 1)"
   ]
  },
  {
   "cell_type": "code",
   "execution_count": 10,
   "metadata": {},
   "outputs": [
    {
     "name": "stderr",
     "output_type": "stream",
     "text": [
      "100%|██████████| 1067/1067 [01:07<00:00, 15.80it/s]\n"
     ]
    },
    {
     "data": {
      "text/plain": [
       "0       None\n",
       "1       None\n",
       "2       None\n",
       "3       None\n",
       "4       None\n",
       "        ... \n",
       "1062    None\n",
       "1063    None\n",
       "1064    None\n",
       "1065    None\n",
       "1066    None\n",
       "Length: 1067, dtype: object"
      ]
     },
     "execution_count": 10,
     "metadata": {},
     "output_type": "execute_result"
    }
   ],
   "source": [
    "#check inverted annotations\n",
    "all_df.progress_apply(lambda row: u.check_inverted_annotations(str(Path(BASE_PATH,row[\"performance_annotations\"]))),axis = 1)"
   ]
  },
  {
   "cell_type": "code",
   "execution_count": 21,
   "metadata": {},
   "outputs": [
    {
     "name": "stderr",
     "output_type": "stream",
     "text": [
      " 19%|█▉        | 206/1068 [00:11<01:43,  8.30it/s]"
     ]
    },
    {
     "name": "stdout",
     "output_type": "stream",
     "text": [
      "Different length of annotations for ../Beethoven/Piano_Sonatas/16-1/LuoJ03M_annotations.txt: 648 (ms) vs 646 (perf) \n"
     ]
    },
    {
     "name": "stderr",
     "output_type": "stream",
     "text": [
      " 20%|██        | 214/1068 [00:12<02:59,  4.75it/s]"
     ]
    },
    {
     "name": "stdout",
     "output_type": "stream",
     "text": [
      "Different length of annotations for ../Beethoven/Piano_Sonatas/17-1/USHIKI05_annotations.txt: 1273 (ms) vs 1265 (perf) \n"
     ]
    },
    {
     "name": "stderr",
     "output_type": "stream",
     "text": [
      " 21%|██        | 226/1068 [00:14<01:43,  8.12it/s]"
     ]
    },
    {
     "name": "stdout",
     "output_type": "stream",
     "text": [
      "Different length of annotations for ../Beethoven/Piano_Sonatas/17-2/KaszoS10_annotations.txt: 309 (ms) vs 360 (perf) \n",
      "Different length of annotations for ../Beethoven/Piano_Sonatas/17-3/KaszoS11M_annotations.txt: 1478 (ms) vs 1454 (perf) \n"
     ]
    },
    {
     "name": "stderr",
     "output_type": "stream",
     "text": [
      " 23%|██▎       | 243/1068 [00:16<01:11, 11.54it/s]"
     ]
    },
    {
     "name": "stdout",
     "output_type": "stream",
     "text": [
      "Different length of annotations for ../Beethoven/Piano_Sonatas/18-3/KOLESO06_annotations.txt: 347 (ms) vs 299 (perf) \n"
     ]
    },
    {
     "name": "stderr",
     "output_type": "stream",
     "text": [
      " 24%|██▎       | 251/1068 [00:17<02:48,  4.84it/s]"
     ]
    },
    {
     "name": "stdout",
     "output_type": "stream",
     "text": [
      "Different length of annotations for ../Beethoven/Piano_Sonatas/21-1/Sekino05M_annotations.txt: 1545 (ms) vs 1205 (perf) \n"
     ]
    },
    {
     "name": "stderr",
     "output_type": "stream",
     "text": [
      " 24%|██▎       | 253/1068 [00:18<02:50,  4.79it/s]"
     ]
    },
    {
     "name": "stdout",
     "output_type": "stream",
     "text": [
      "Different length of annotations for ../Beethoven/Piano_Sonatas/21-1/YOO05_annotations.txt: 1545 (ms) vs 1205 (perf) \n"
     ]
    },
    {
     "name": "stderr",
     "output_type": "stream",
     "text": [
      " 29%|██▉       | 313/1068 [00:27<01:22,  9.17it/s]"
     ]
    },
    {
     "name": "stdout",
     "output_type": "stream",
     "text": [
      "Different length of annotations for ../Beethoven/Piano_Sonatas/24-2/Lisiecki05M_annotations.txt: 365 (ms) vs 363 (perf) \n"
     ]
    },
    {
     "name": "stderr",
     "output_type": "stream",
     "text": [
      " 33%|███▎      | 351/1068 [00:31<01:21,  8.75it/s]"
     ]
    },
    {
     "name": "stdout",
     "output_type": "stream",
     "text": [
      "Different length of annotations for ../Beethoven/Piano_Sonatas/29-4/DANILO01_annotations.txt: 1222 (ms) vs 1237 (perf) \n"
     ]
    },
    {
     "name": "stderr",
     "output_type": "stream",
     "text": [
      " 33%|███▎      | 357/1068 [00:32<01:55,  6.13it/s]"
     ]
    },
    {
     "name": "stdout",
     "output_type": "stream",
     "text": [
      "Different length of annotations for ../Beethoven/Piano_Sonatas/3-1/LUO01_annotations.txt: 1064 (ms) vs 1056 (perf) \n"
     ]
    },
    {
     "name": "stderr",
     "output_type": "stream",
     "text": [
      " 38%|███▊      | 405/1068 [00:35<00:54, 12.20it/s]"
     ]
    },
    {
     "name": "stdout",
     "output_type": "stream",
     "text": [
      "Different length of annotations for ../Beethoven/Piano_Sonatas/31-3_4/HuangSW10M_annotations.txt: 528 (ms) vs 491 (perf) \n"
     ]
    },
    {
     "name": "stderr",
     "output_type": "stream",
     "text": [
      " 43%|████▎     | 464/1068 [00:41<01:01,  9.86it/s]"
     ]
    },
    {
     "name": "stdout",
     "output_type": "stream",
     "text": [
      "Different length of annotations for ../Chopin/Ballades/1/MunA19M_annotations.txt: 653 (ms) vs 650 (perf) \n"
     ]
    },
    {
     "name": "stderr",
     "output_type": "stream",
     "text": [
      " 48%|████▊     | 516/1068 [00:45<00:29, 18.84it/s]"
     ]
    },
    {
     "name": "stdout",
     "output_type": "stream",
     "text": [
      "Different length of annotations for ../Chopin/Etudes_op_10/1/LuM02M_annotations.txt: 313 (ms) vs 312 (perf) \n"
     ]
    },
    {
     "name": "stderr",
     "output_type": "stream",
     "text": [
      " 64%|██████▍   | 685/1068 [00:54<00:38,  9.95it/s]"
     ]
    },
    {
     "name": "stdout",
     "output_type": "stream",
     "text": [
      "Different length of annotations for ../Chopin/Scherzos/20/Wong04M_annotations.txt: 1873 (ms) vs 1861 (perf) \n"
     ]
    },
    {
     "name": "stderr",
     "output_type": "stream",
     "text": [
      " 79%|███████▉  | 847/1068 [01:12<00:28,  7.88it/s]"
     ]
    },
    {
     "name": "stdout",
     "output_type": "stream",
     "text": [
      "Different length of annotations for ../Liszt/Mephisto_Waltz/Avdeeva07M_annotations.txt: 2602 (ms) vs 2599 (perf) \n"
     ]
    },
    {
     "name": "stderr",
     "output_type": "stream",
     "text": [
      " 81%|████████  | 866/1068 [01:20<01:23,  2.41it/s]"
     ]
    },
    {
     "name": "stdout",
     "output_type": "stream",
     "text": [
      "Different length of annotations for ../Liszt/Sonata/Yeletskiy05M_annotations.txt: 2632 (ms) vs 2630 (perf) \n"
     ]
    },
    {
     "name": "stderr",
     "output_type": "stream",
     "text": [
      " 82%|████████▏ | 871/1068 [01:21<00:59,  3.29it/s]"
     ]
    },
    {
     "name": "stdout",
     "output_type": "stream",
     "text": [
      "Different length of annotations for ../Liszt/Sonata/Zuber07M_annotations.txt: 2632 (ms) vs 2628 (perf) \n"
     ]
    },
    {
     "name": "stderr",
     "output_type": "stream",
     "text": [
      " 84%|████████▍ | 895/1068 [01:23<00:17,  9.89it/s]"
     ]
    },
    {
     "name": "stdout",
     "output_type": "stream",
     "text": [
      "Different length of annotations for ../Liszt/Transcendental_Etudes/4/LeeE04M_annotations.txt: 682 (ms) vs 681 (perf) \n"
     ]
    },
    {
     "name": "stderr",
     "output_type": "stream",
     "text": [
      " 88%|████████▊ | 943/1068 [01:26<00:06, 18.85it/s]"
     ]
    },
    {
     "name": "stdout",
     "output_type": "stream",
     "text": [
      "Different length of annotations for ../Rachmaninoff/Preludes_op_32/10/FONG08_annotations.txt: 241 (ms) vs 192 (perf) \n"
     ]
    },
    {
     "name": "stderr",
     "output_type": "stream",
     "text": [
      " 90%|████████▉ | 956/1068 [01:27<00:07, 15.09it/s]"
     ]
    },
    {
     "name": "stdout",
     "output_type": "stream",
     "text": [
      "Different length of annotations for ../Ravel/Miroirs/4_Alborada_del_gracioso/CHOE02_annotations.txt: 547 (ms) vs 544 (perf) \n"
     ]
    },
    {
     "name": "stderr",
     "output_type": "stream",
     "text": [
      " 90%|█████████ | 964/1068 [01:27<00:08, 11.57it/s]"
     ]
    },
    {
     "name": "stdout",
     "output_type": "stream",
     "text": [
      "Different length of annotations for ../Ravel/Miroirs/4_Alborada_del_gracioso/Shamray08_annotations.txt: 547 (ms) vs 544 (perf) \n"
     ]
    },
    {
     "name": "stderr",
     "output_type": "stream",
     "text": [
      " 93%|█████████▎| 998/1068 [01:31<00:09,  7.23it/s]"
     ]
    },
    {
     "name": "stdout",
     "output_type": "stream",
     "text": [
      "Different length of annotations for ../Schubert/Impromptu_op142/1/Lisiecki10M_annotations.txt: 993 (ms) vs 1097 (perf) \n"
     ]
    },
    {
     "name": "stderr",
     "output_type": "stream",
     "text": [
      " 94%|█████████▍| 1002/1068 [01:31<00:06,  9.64it/s]"
     ]
    },
    {
     "name": "stdout",
     "output_type": "stream",
     "text": [
      "Different length of annotations for ../Schubert/Impromptu_op142/3/Richardson07M_annotations.txt: 431 (ms) vs 415 (perf) \n",
      "Different length of annotations for ../Schubert/Impromptu_op142/3/SunY08M_annotations.txt: 431 (ms) vs 351 (perf) \n"
     ]
    },
    {
     "name": "stderr",
     "output_type": "stream",
     "text": [
      " 97%|█████████▋| 1035/1068 [01:35<00:04,  7.85it/s]"
     ]
    },
    {
     "name": "stdout",
     "output_type": "stream",
     "text": [
      "Different length of annotations for ../Schumann/Kreisleriana/2/JohannsonP03_annotations.txt: 594 (ms) vs 486 (perf) \n"
     ]
    },
    {
     "name": "stderr",
     "output_type": "stream",
     "text": [
      " 98%|█████████▊| 1044/1068 [01:35<00:01, 12.06it/s]"
     ]
    },
    {
     "name": "stdout",
     "output_type": "stream",
     "text": [
      "Different length of annotations for ../Schumann/Kreisleriana/5/JohannsonP06_annotations.txt: 518 (ms) vs 517 (perf) \n"
     ]
    },
    {
     "name": "stderr",
     "output_type": "stream",
     "text": [
      " 99%|█████████▉| 1060/1068 [01:36<00:00, 12.81it/s]"
     ]
    },
    {
     "name": "stdout",
     "output_type": "stream",
     "text": [
      "Different length of annotations for ../Scriabin/Sonatas/5/ChernovA06M_annotations.txt: 1003 (ms) vs 979 (perf) \n",
      "Different length of annotations for ../Scriabin/Sonatas/5/FALIKS06_annotations.txt: 1003 (ms) vs 993 (perf) \n"
     ]
    },
    {
     "name": "stderr",
     "output_type": "stream",
     "text": [
      "100%|█████████▉| 1064/1068 [01:37<00:00,  8.37it/s]"
     ]
    },
    {
     "name": "stdout",
     "output_type": "stream",
     "text": [
      "Different length of annotations for ../Scriabin/Sonatas/5/Ko07M_annotations.txt: 1003 (ms) vs 1000 (perf) \n"
     ]
    },
    {
     "name": "stderr",
     "output_type": "stream",
     "text": [
      "100%|██████████| 1068/1068 [01:38<00:00, 10.88it/s]\n"
     ]
    },
    {
     "data": {
      "text/plain": [
       "0       True\n",
       "1       True\n",
       "2       True\n",
       "3       True\n",
       "4       True\n",
       "        ... \n",
       "1063    True\n",
       "1064    True\n",
       "1065    True\n",
       "1066    True\n",
       "1067    True\n",
       "Length: 1068, dtype: bool"
      ]
     },
     "execution_count": 21,
     "metadata": {},
     "output_type": "execute_result"
    }
   ],
   "source": [
    "# check if performances and midi scores have the same number and type of annotations\n",
    "all_df.progress_apply(lambda row: u.midi_score_and_perf_aligned(str(Path(BASE_PATH,row[\"performance_annotations\"])),str(Path(BASE_PATH,row[\"midi_score_annotations\"])),verbose=True),axis = 1)"
   ]
  },
  {
   "cell_type": "markdown",
   "metadata": {},
   "source": [
    "# Check if all files exist"
   ]
  },
  {
   "cell_type": "code",
   "execution_count": 12,
   "metadata": {},
   "outputs": [],
   "source": [
    "for i,row in all_df.iterrows():\n",
    "    fields_to_check = ['xml_score', 'midi_score','midi_performance', 'performance_annotations', 'midi_score_annotations']\n",
    "    for f in fields_to_check:\n",
    "        my_file = Path(BASE_PATH,row[f])\n",
    "        if not my_file.is_file():\n",
    "            print(\"File not found\",my_file)"
   ]
  },
  {
   "cell_type": "code",
   "execution_count": null,
   "metadata": {},
   "outputs": [],
   "source": []
  }
 ],
 "metadata": {
  "kernelspec": {
   "display_name": "Python 3",
   "language": "python",
   "name": "python3"
  },
  "language_info": {
   "codemirror_mode": {
    "name": "ipython",
    "version": 3
   },
   "file_extension": ".py",
   "mimetype": "text/x-python",
   "name": "python",
   "nbconvert_exporter": "python",
   "pygments_lexer": "ipython3",
   "version": "3.8.2"
  }
 },
 "nbformat": 4,
 "nbformat_minor": 4
}
